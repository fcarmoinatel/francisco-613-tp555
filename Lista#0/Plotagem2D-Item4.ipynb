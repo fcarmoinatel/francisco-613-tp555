{
 "cells": [
  {
   "cell_type": "code",
   "execution_count": 2,
   "metadata": {},
   "outputs": [
    {
     "data": {
      "image/png": "[encoded data removed]",
      "text/plain": [
       "<Figure size 432x288 with 1 Axes>"
      ]
     },
     "metadata": {
      "needs_background": "light"
     },
     "output_type": "display_data"
    }
   ],
   "source": [
    "import matplotlib.pyplot as plt\n",
    "import numpy as np\n",
    "\n",
    "%matplotlib inline\n",
    "\n",
    "# Numero de elementos aumentados\n",
    "M = 10000\n",
    "\n",
    "# Distribuições aleatorias\n",
    "x = np.random.rand(M)\n",
    "y = np.random.rand(M)\n",
    "\n",
    "# Equação proposta\n",
    "z = x + y\n",
    "\n",
    "# Plotagem do histograma conforme os valores propostos\n",
    "fig1, axis = plt.subplots()\n",
    "\n",
    "# Características do histograma\n",
    "plt.hist(z , bins=100, density=True , color=\"green\")\n",
    "axis.set(xlabel='x and y', ylabel='z' , title='Equation: z = x + y')\n",
    "\n",
    "plt.grid(True)\n",
    "plt.show()\n",
    "\n",
    "fig1.savefig(\"Plotagem2D-Item4.png\")\n",
    "\n"
   ]
  },
  {
   "cell_type": "code",
   "execution_count": null,
   "metadata": {},
   "outputs": [],
   "source": []
  },
  {
   "cell_type": "code",
   "execution_count": null,
   "metadata": {},
   "outputs": [],
   "source": []
  }
 ],
 "metadata": {
  "kernelspec": {
   "display_name": "Python 3",
   "language": "python",
   "name": "python3"
  },
  "language_info": {
   "codemirror_mode": {
    "name": "ipython",
    "version": 3
   },
   "file_extension": ".py",
   "mimetype": "text/x-python",
   "name": "python",
   "nbconvert_exporter": "python",
   "pygments_lexer": "ipython3",
   "version": "3.7.6"
  }
 },
 "nbformat": 4,
 "nbformat_minor": 4
}
