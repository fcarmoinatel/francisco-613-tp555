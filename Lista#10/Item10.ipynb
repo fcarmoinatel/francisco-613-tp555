{
 "cells": [
  {
   "cell_type": "markdown",
   "metadata": {},
   "source": [
    "# Item10: Modifique o código anterior para implementar o gradiente descendente estocástico (SGD) com o TensorFlow"
   ]
  },
  {
   "cell_type": "code",
   "execution_count": 1,
   "metadata": {},
   "outputs": [
    {
     "name": "stderr",
     "output_type": "stream",
     "text": [
      "C:\\ProgramData\\Anaconda3\\lib\\site-packages\\tensorflow\\python\\framework\\dtypes.py:516: FutureWarning: Passing (type, 1) or '1type' as a synonym of type is deprecated; in a future version of numpy, it will be understood as (type, (1,)) / '(1,)type'.\n",
      "  _np_qint8 = np.dtype([(\"qint8\", np.int8, 1)])\n",
      "C:\\ProgramData\\Anaconda3\\lib\\site-packages\\tensorflow\\python\\framework\\dtypes.py:517: FutureWarning: Passing (type, 1) or '1type' as a synonym of type is deprecated; in a future version of numpy, it will be understood as (type, (1,)) / '(1,)type'.\n",
      "  _np_quint8 = np.dtype([(\"quint8\", np.uint8, 1)])\n",
      "C:\\ProgramData\\Anaconda3\\lib\\site-packages\\tensorflow\\python\\framework\\dtypes.py:518: FutureWarning: Passing (type, 1) or '1type' as a synonym of type is deprecated; in a future version of numpy, it will be understood as (type, (1,)) / '(1,)type'.\n",
      "  _np_qint16 = np.dtype([(\"qint16\", np.int16, 1)])\n",
      "C:\\ProgramData\\Anaconda3\\lib\\site-packages\\tensorflow\\python\\framework\\dtypes.py:519: FutureWarning: Passing (type, 1) or '1type' as a synonym of type is deprecated; in a future version of numpy, it will be understood as (type, (1,)) / '(1,)type'.\n",
      "  _np_quint16 = np.dtype([(\"quint16\", np.uint16, 1)])\n",
      "C:\\ProgramData\\Anaconda3\\lib\\site-packages\\tensorflow\\python\\framework\\dtypes.py:520: FutureWarning: Passing (type, 1) or '1type' as a synonym of type is deprecated; in a future version of numpy, it will be understood as (type, (1,)) / '(1,)type'.\n",
      "  _np_qint32 = np.dtype([(\"qint32\", np.int32, 1)])\n",
      "C:\\ProgramData\\Anaconda3\\lib\\site-packages\\tensorflow\\python\\framework\\dtypes.py:525: FutureWarning: Passing (type, 1) or '1type' as a synonym of type is deprecated; in a future version of numpy, it will be understood as (type, (1,)) / '(1,)type'.\n",
      "  np_resource = np.dtype([(\"resource\", np.ubyte, 1)])\n",
      "C:\\ProgramData\\Anaconda3\\lib\\site-packages\\tensorboard\\compat\\tensorflow_stub\\dtypes.py:541: FutureWarning: Passing (type, 1) or '1type' as a synonym of type is deprecated; in a future version of numpy, it will be understood as (type, (1,)) / '(1,)type'.\n",
      "  _np_qint8 = np.dtype([(\"qint8\", np.int8, 1)])\n",
      "C:\\ProgramData\\Anaconda3\\lib\\site-packages\\tensorboard\\compat\\tensorflow_stub\\dtypes.py:542: FutureWarning: Passing (type, 1) or '1type' as a synonym of type is deprecated; in a future version of numpy, it will be understood as (type, (1,)) / '(1,)type'.\n",
      "  _np_quint8 = np.dtype([(\"quint8\", np.uint8, 1)])\n",
      "C:\\ProgramData\\Anaconda3\\lib\\site-packages\\tensorboard\\compat\\tensorflow_stub\\dtypes.py:543: FutureWarning: Passing (type, 1) or '1type' as a synonym of type is deprecated; in a future version of numpy, it will be understood as (type, (1,)) / '(1,)type'.\n",
      "  _np_qint16 = np.dtype([(\"qint16\", np.int16, 1)])\n",
      "C:\\ProgramData\\Anaconda3\\lib\\site-packages\\tensorboard\\compat\\tensorflow_stub\\dtypes.py:544: FutureWarning: Passing (type, 1) or '1type' as a synonym of type is deprecated; in a future version of numpy, it will be understood as (type, (1,)) / '(1,)type'.\n",
      "  _np_quint16 = np.dtype([(\"quint16\", np.uint16, 1)])\n",
      "C:\\ProgramData\\Anaconda3\\lib\\site-packages\\tensorboard\\compat\\tensorflow_stub\\dtypes.py:545: FutureWarning: Passing (type, 1) or '1type' as a synonym of type is deprecated; in a future version of numpy, it will be understood as (type, (1,)) / '(1,)type'.\n",
      "  _np_qint32 = np.dtype([(\"qint32\", np.int32, 1)])\n",
      "C:\\ProgramData\\Anaconda3\\lib\\site-packages\\tensorboard\\compat\\tensorflow_stub\\dtypes.py:550: FutureWarning: Passing (type, 1) or '1type' as a synonym of type is deprecated; in a future version of numpy, it will be understood as (type, (1,)) / '(1,)type'.\n",
      "  np_resource = np.dtype([(\"resource\", np.ubyte, 1)])\n"
     ]
    }
   ],
   "source": [
    "import tensorflow as tf\n",
    "import numpy as np\n",
    "import matplotlib\n",
    "import matplotlib.pyplot as plt\n",
    "from sklearn.datasets import make_moons\n",
    "from datetime import datetime\n",
    "from sklearn.model_selection import train_test_split\n",
    "from sklearn.metrics import precision_score, recall_score\n",
    "import os\n",
    "from IPython.display import Image\n",
    "from IPython.core.display import HTML \n",
    "from IPython.display import SVG, display"
   ]
  },
  {
   "cell_type": "code",
   "execution_count": 2,
   "metadata": {},
   "outputs": [],
   "source": [
    "def reset_graph(seed=42):\n",
    "    tf.reset_default_graph()\n",
    "    tf.set_random_seed(seed)\n",
    "    np.random.seed(seed)"
   ]
  },
  {
   "cell_type": "code",
   "execution_count": 3,
   "metadata": {},
   "outputs": [],
   "source": [
    "N = 1000\n",
    "X, y = make_moons(N, noise=0.1, random_state=42)"
   ]
  },
  {
   "cell_type": "code",
   "execution_count": 4,
   "metadata": {},
   "outputs": [
    {
     "data": {
      "image/png": "[encoded data removed]",
      "text/plain": [
       "<Figure size 360x360 with 1 Axes>"
      ]
     },
     "metadata": {
      "needs_background": "light"
     },
     "output_type": "display_data"
    }
   ],
   "source": [
    "plt.figure(figsize=(5,5))\n",
    "plt.plot(X[y == 1, 0], X[y == 1, 1], 'go', label=\"Positive\")\n",
    "plt.plot(X[y == 0, 0], X[y == 0, 1], 'r^', label=\"Negative\")\n",
    "plt.legend()\n",
    "plt.show()"
   ]
  },
  {
   "cell_type": "code",
   "execution_count": 5,
   "metadata": {},
   "outputs": [],
   "source": [
    "m, n = X.shape\n",
    "X_plus_bias = np.c_[np.ones((m, 1)), X]\n",
    "\n",
    "y = y.reshape(-1, 1)\n",
    "\n",
    "X_train, X_test, y_train, y_test = train_test_split(X_plus_bias, y, test_size=0.2, random_state=42)"
   ]
  },
  {
   "cell_type": "code",
   "execution_count": 6,
   "metadata": {},
   "outputs": [],
   "source": [
    "n_epochs = 100\n",
    "batch_size = 1\n",
    "n_batches = int(np.ceil(m / batch_size))\n",
    "learning_rate = 0.01\n",
    "\n",
    "def log_dir(prefix=\"\", root_logdir = \"tf2_logs\"):\n",
    "    now = datetime.utcnow().strftime(\"%Y%m%d%H%M%S\")\n",
    "    if prefix:\n",
    "        prefix += \"-\"\n",
    "    name = prefix + \"run-\" + now\n",
    "    return \"{}/{}/\".format(root_logdir, name)\n",
    "\n",
    "def fetch_batch(X_train, y_train, epoch, batch_index, batch_size):\n",
    "    m, n = X_train.shape\n",
    "    np.random.seed(epoch * n_batches + batch_index)\n",
    "    indices = np.random.randint(m, size=batch_size)\n",
    "    X_batch = X_train[indices]\n",
    "    y_batch = y_train[indices]\n",
    "    return X_batch, y_batch\n",
    "\n",
    "def logistic_regression(X, y, initializer=None, seed=42, learning_rate=0.01):\n",
    "    n_inputs_including_bias = int(X.get_shape()[1])\n",
    "    with tf.name_scope(\"logistic_regression\"):\n",
    "        with tf.name_scope(\"model\"):\n",
    "            if initializer is None:\n",
    "                initializer = tf.random_uniform([n_inputs_including_bias, 1], -1.0, 1.0, seed=seed)\n",
    "            theta = tf.Variable(initializer, name=\"theta\")\n",
    "            logits = tf.matmul(X, theta, name=\"logits\")\n",
    "            y_proba = tf.sigmoid(logits)\n",
    "        with tf.name_scope(\"train\"):\n",
    "            loss = tf.losses.log_loss(y, y_proba, scope=\"loss\")\n",
    "            optimizer = tf.train.GradientDescentOptimizer(learning_rate=learning_rate)\n",
    "            training_op = optimizer.minimize(loss)\n",
    "            loss_summary = tf.summary.scalar('log_loss', loss)\n",
    "        with tf.name_scope(\"init\"):\n",
    "            init = tf.global_variables_initializer()\n",
    "        with tf.name_scope(\"save\"):\n",
    "            saver = tf.train.Saver()\n",
    "\n",
    "    return y_proba, loss, training_op, loss_summary, init, saver"
   ]
  },
  {
   "cell_type": "code",
   "execution_count": 7,
   "metadata": {},
   "outputs": [],
   "source": [
    "X_train_enhanced = np.c_[X_train,\n",
    "                         X_train[:, 1] ** 2,\n",
    "                         X_train[:, 2] ** 2,\n",
    "                         X_train[:, 1] ** 3,\n",
    "                         X_train[:, 2] ** 3]\n",
    "X_test_enhanced = np.c_[X_test,\n",
    "                        X_test[:, 1] ** 2,\n",
    "                        X_test[:, 2] ** 2,\n",
    "                        X_test[:, 1] ** 3,\n",
    "                        X_test[:, 2] ** 3]"
   ]
  },
  {
   "cell_type": "code",
   "execution_count": 8,
   "metadata": {},
   "outputs": [
    {
     "name": "stdout",
     "output_type": "stream",
     "text": [
      "WARNING:tensorflow:From C:\\ProgramData\\Anaconda3\\lib\\site-packages\\tensorflow\\python\\ops\\losses\\losses_impl.py:121: add_dispatch_support.<locals>.wrapper (from tensorflow.python.ops.array_ops) is deprecated and will be removed in a future version.\n",
      "Instructions for updating:\n",
      "Use tf.where in 2.0, which has the same broadcast rule as np.where\n"
     ]
    }
   ],
   "source": [
    "reset_graph()\n",
    "\n",
    "n_inputs = 6\n",
    "logdir = log_dir('logreg4', 'tf4_logs')\n",
    "\n",
    "X = tf.placeholder(tf.float32, shape=(None, n_inputs + 1), name=\"X\")\n",
    "y = tf.placeholder(tf.float32, shape=(None, 1), name=\"y\")\n",
    "\n",
    "y_proba, loss, training_op, loss_summary, init, saver = logistic_regression(X, y)\n",
    "\n",
    "file_writer = tf.summary.FileWriter(logdir, tf.get_default_graph())"
   ]
  },
  {
   "cell_type": "code",
   "execution_count": 9,
   "metadata": {},
   "outputs": [
    {
     "name": "stdout",
     "output_type": "stream",
     "text": [
      "Epoch: 0 \tLoss: 0.34202415\n",
      "Epoch: 1 \tLoss: 0.27790228\n",
      "Epoch: 2 \tLoss: 0.24088676\n",
      "Epoch: 3 \tLoss: 0.21514729\n",
      "Epoch: 4 \tLoss: 0.19852951\n",
      "Epoch: 5 \tLoss: 0.18515803\n",
      "Epoch: 6 \tLoss: 0.17402145\n",
      "Epoch: 7 \tLoss: 0.16456105\n",
      "Epoch: 8 \tLoss: 0.15681493\n",
      "Epoch: 9 \tLoss: 0.14928009\n",
      "Epoch: 10 \tLoss: 0.14272918\n",
      "Epoch: 11 \tLoss: 0.13690308\n",
      "Epoch: 12 \tLoss: 0.13169341\n",
      "Epoch: 13 \tLoss: 0.1266858\n",
      "Epoch: 14 \tLoss: 0.12224058\n",
      "Epoch: 15 \tLoss: 0.11830397\n",
      "Epoch: 16 \tLoss: 0.114549235\n",
      "Epoch: 17 \tLoss: 0.111503035\n",
      "Epoch: 18 \tLoss: 0.107988365\n",
      "Epoch: 19 \tLoss: 0.10488385\n",
      "Epoch: 20 \tLoss: 0.10207948\n",
      "Epoch: 21 \tLoss: 0.09936391\n",
      "Epoch: 22 \tLoss: 0.09699389\n",
      "Epoch: 23 \tLoss: 0.09469615\n",
      "Epoch: 24 \tLoss: 0.09278406\n",
      "Epoch: 25 \tLoss: 0.090659425\n",
      "Epoch: 26 \tLoss: 0.089027226\n",
      "Epoch: 27 \tLoss: 0.08700616\n",
      "Epoch: 28 \tLoss: 0.08533999\n",
      "Epoch: 29 \tLoss: 0.083640814\n",
      "Epoch: 30 \tLoss: 0.08265378\n",
      "Epoch: 31 \tLoss: 0.08046378\n",
      "Epoch: 32 \tLoss: 0.07898916\n",
      "Epoch: 33 \tLoss: 0.077826664\n",
      "Epoch: 34 \tLoss: 0.07632377\n",
      "Epoch: 35 \tLoss: 0.075099155\n",
      "Epoch: 36 \tLoss: 0.07399414\n",
      "Epoch: 37 \tLoss: 0.072849825\n",
      "Epoch: 38 \tLoss: 0.07168043\n",
      "Epoch: 39 \tLoss: 0.07064922\n",
      "Epoch: 40 \tLoss: 0.06963468\n",
      "Epoch: 41 \tLoss: 0.068760484\n",
      "Epoch: 42 \tLoss: 0.067638405\n",
      "Epoch: 43 \tLoss: 0.066774674\n",
      "Epoch: 44 \tLoss: 0.065854914\n",
      "Epoch: 45 \tLoss: 0.06502346\n",
      "Epoch: 46 \tLoss: 0.064231455\n",
      "Epoch: 47 \tLoss: 0.06350596\n",
      "Epoch: 48 \tLoss: 0.06273041\n",
      "Epoch: 49 \tLoss: 0.06217044\n",
      "Epoch: 50 \tLoss: 0.0612973\n",
      "Epoch: 51 \tLoss: 0.060509868\n",
      "Epoch: 52 \tLoss: 0.059867464\n",
      "Epoch: 53 \tLoss: 0.05930828\n",
      "Epoch: 54 \tLoss: 0.058673\n",
      "Epoch: 55 \tLoss: 0.05814197\n",
      "Epoch: 56 \tLoss: 0.05730668\n",
      "Epoch: 57 \tLoss: 0.05667303\n",
      "Epoch: 58 \tLoss: 0.056071747\n",
      "Epoch: 59 \tLoss: 0.05566779\n",
      "Epoch: 60 \tLoss: 0.05495169\n",
      "Epoch: 61 \tLoss: 0.05430892\n",
      "Epoch: 62 \tLoss: 0.05383521\n",
      "Epoch: 63 \tLoss: 0.05341775\n",
      "Epoch: 64 \tLoss: 0.052978925\n",
      "Epoch: 65 \tLoss: 0.052472305\n",
      "Epoch: 66 \tLoss: 0.051824603\n",
      "Epoch: 67 \tLoss: 0.051322583\n",
      "Epoch: 68 \tLoss: 0.051200647\n",
      "Epoch: 69 \tLoss: 0.05062035\n",
      "Epoch: 70 \tLoss: 0.04999565\n",
      "Epoch: 71 \tLoss: 0.04959173\n",
      "Epoch: 72 \tLoss: 0.049545385\n",
      "Epoch: 73 \tLoss: 0.048753034\n",
      "Epoch: 74 \tLoss: 0.04833323\n",
      "Epoch: 75 \tLoss: 0.047970723\n",
      "Epoch: 76 \tLoss: 0.047555946\n",
      "Epoch: 77 \tLoss: 0.04739069\n",
      "Epoch: 78 \tLoss: 0.046975482\n",
      "Epoch: 79 \tLoss: 0.04640608\n",
      "Epoch: 80 \tLoss: 0.046006814\n",
      "Epoch: 81 \tLoss: 0.045643367\n",
      "Epoch: 82 \tLoss: 0.045341436\n",
      "Epoch: 83 \tLoss: 0.045397695\n",
      "Epoch: 84 \tLoss: 0.044808436\n",
      "Epoch: 85 \tLoss: 0.044467207\n",
      "Epoch: 86 \tLoss: 0.04459157\n",
      "Epoch: 87 \tLoss: 0.04380345\n",
      "Epoch: 88 \tLoss: 0.043994926\n",
      "Epoch: 89 \tLoss: 0.043394748\n",
      "Epoch: 90 \tLoss: 0.04289321\n",
      "Epoch: 91 \tLoss: 0.042987756\n",
      "Epoch: 92 \tLoss: 0.04276749\n",
      "Epoch: 93 \tLoss: 0.04222453\n",
      "Epoch: 94 \tLoss: 0.04207226\n",
      "Epoch: 95 \tLoss: 0.041814853\n",
      "Epoch: 96 \tLoss: 0.04140071\n",
      "Epoch: 97 \tLoss: 0.04153964\n",
      "Epoch: 98 \tLoss: 0.040819377\n",
      "Epoch: 99 \tLoss: 0.040724088\n"
     ]
    }
   ],
   "source": [
    "checkpoint_path = \"/tmp/my_logreg4_model.ckpt\"\n",
    "checkpoint_epoch_path = checkpoint_path + \".epoch\"\n",
    "final_model_path = \"./my_logreg_model4\"\n",
    "\n",
    "with tf.Session() as sess:\n",
    "    if os.path.isfile(checkpoint_epoch_path):\n",
    "        # if the checkpoint file exists, restore the model and load the epoch number\n",
    "        with open(checkpoint_epoch_path, \"rb\") as f:\n",
    "            start_epoch = int(f.read())\n",
    "        print(\"Training was interrupted. Continuing at epoch\", start_epoch)\n",
    "        saver.restore(sess, checkpoint_path)\n",
    "    else:\n",
    "        start_epoch = 0\n",
    "        sess.run(init)\n",
    "\n",
    "    for epoch in range(start_epoch, n_epochs):\n",
    "        for batch_index in range(n_batches):\n",
    "            X_batch, y_batch = fetch_batch(X_train_enhanced, y_train, epoch, batch_index, batch_size)\n",
    "            sess.run(training_op, feed_dict={X: X_batch, y: y_batch})\n",
    "        loss_val, summary_str = sess.run([loss, loss_summary], feed_dict={X: X_test_enhanced, y: y_test})\n",
    "        file_writer.add_summary(summary_str, epoch)\n",
    "        print(\"Epoch:\", epoch, \"\\tLoss:\", loss_val)\n",
    "        saver.save(sess, checkpoint_path)\n",
    "        with open(checkpoint_epoch_path, \"wb\") as f:\n",
    "            f.write(b\"%d\" % (epoch + 1))\n",
    "\n",
    "    saver.save(sess, final_model_path)\n",
    "    y_proba_val = y_proba.eval(feed_dict={X: X_test_enhanced, y: y_test})\n",
    "    os.remove(checkpoint_epoch_path)"
   ]
  },
  {
   "cell_type": "code",
   "execution_count": 10,
   "metadata": {},
   "outputs": [],
   "source": [
    "y_pred = (y_proba_val >= 0.5)"
   ]
  },
  {
   "cell_type": "code",
   "execution_count": 11,
   "metadata": {},
   "outputs": [
    {
     "data": {
      "text/plain": [
       "1.0"
      ]
     },
     "execution_count": 11,
     "metadata": {},
     "output_type": "execute_result"
    }
   ],
   "source": [
    "precision_score(y_test, y_pred)"
   ]
  },
  {
   "cell_type": "code",
   "execution_count": 12,
   "metadata": {},
   "outputs": [
    {
     "data": {
      "image/png": "[encoded data removed]",
      "text/plain": [
       "<Figure size 360x360 with 1 Axes>"
      ]
     },
     "metadata": {
      "needs_background": "light"
     },
     "output_type": "display_data"
    }
   ],
   "source": [
    "y_pred_idx = y_pred.reshape(-1) # a 1D array rather than a column vector\n",
    "\n",
    "plt.figure(figsize=(5,5))\n",
    "plt.plot(X_test[y_pred_idx, 1], X_test[y_pred_idx, 2], 'go', label=\"Positive\")\n",
    "plt.plot(X_test[~y_pred_idx, 1], X_test[~y_pred_idx, 2], 'r^', label=\"Negative\")\n",
    "plt.legend()\n",
    "plt.show()"
   ]
  },
  {
   "cell_type": "code",
   "execution_count": null,
   "metadata": {},
   "outputs": [
    {
     "data": {
      "text/plain": [
       "Launching TensorBoard..."
      ]
     },
     "metadata": {},
     "output_type": "display_data"
    }
   ],
   "source": [
    "%load_ext tensorboard\n",
    "%tensorboard --logdir tf4_logs --host localhost"
   ]
  },
  {
   "cell_type": "code",
   "execution_count": null,
   "metadata": {},
   "outputs": [],
   "source": []
  }
 ],
 "metadata": {
  "kernelspec": {
   "display_name": "Python 3",
   "language": "python",
   "name": "python3"
  },
  "language_info": {
   "codemirror_mode": {
    "name": "ipython",
    "version": 3
   },
   "file_extension": ".py",
   "mimetype": "text/x-python",
   "name": "python",
   "nbconvert_exporter": "python",
   "pygments_lexer": "ipython3",
   "version": "3.7.6"
  }
 },
 "nbformat": 4,
 "nbformat_minor": 4
}
