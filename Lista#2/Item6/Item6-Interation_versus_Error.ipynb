{
 "cells": [
  {
   "cell_type": "code",
   "execution_count": 3,
   "metadata": {},
   "outputs": [],
   "source": [
    "# Import all necessary libraries\n",
    "from mpl_toolkits.mplot3d import Axes3D\n",
    "from matplotlib import cm\n",
    "import matplotlib.pyplot as plt\n",
    "import matplotlib\n",
    "import numpy as np\n",
    "\n",
    "%matplotlib inline"
   ]
  },
  {
   "cell_type": "code",
   "execution_count": 4,
   "metadata": {},
   "outputs": [],
   "source": [
    "# Number of pairs feature/label.\n",
    "M = 1000"
   ]
  },
  {
   "cell_type": "code",
   "execution_count": 5,
   "metadata": {},
   "outputs": [],
   "source": [
    "# Always reset the pseudo-random numbers generator to a known value so that your results are always the same.\n",
    "np.random.seed(1234)\n",
    "\n",
    "#Create target function\n",
    "#sigma = Desvio Padrão\n",
    "#sigma^2 = Variância\n",
    "#Sigma*np.random.randn(...) + mu\n",
    "\n",
    "# Input values (features)\n",
    "x = -5 + 10*np.random.rand(M, 1)\n",
    "w = np.sqrt(10)*np.random.randn(M, 1)\n",
    "\n",
    "# Output values (targets).\n",
    "y = 3 + 1.5*x + 2.3*x**2 + w"
   ]
  },
  {
   "cell_type": "code",
   "execution_count": 6,
   "metadata": {},
   "outputs": [],
   "source": [
    "# Concatenate both column vectors.\n",
    "X = np.c_[np.ones((M,1)), x, x**2]\n",
    "\n",
    "# Closed-form solution.\n",
    "a_opt = np.linalg.pinv(np.transpose(X).dot(X)).dot(np.transpose(X).dot(y))\n",
    "\n",
    "#a opt\n",
    "yhat = a_opt[0,0] + a_opt[1,0]*x + a_opt[2,0]*x**2    \n",
    "J_opt = (1/M)*np.sum(np.power((y - yhat),2) )"
   ]
  },
  {
   "cell_type": "code",
   "execution_count": 7,
   "metadata": {},
   "outputs": [],
   "source": [
    "# Batch gradient descent solution.\n",
    "\n",
    "# learning rate.\n",
    "alpha = 0.005\n",
    "# Maximum number of iterations.\n",
    "n_iterations = 1000\n",
    "\n",
    "# Random initialization of parameters.\n",
    "a = np.zeros((3,1))\n",
    "a[0] = -10;\n",
    "a[1] = -10;\n",
    "a[2] = -10;\n",
    "\n",
    "# Create vector for parameter history.\n",
    "a_hist = np.zeros((3, n_iterations+1))\n",
    "# Initialize history vector.\n",
    "a_hist[0, 0] = a[0]\n",
    "a_hist[1, 0] = a[1]\n",
    "a_hist[2, 0] = a[2]\n",
    "\n",
    "# Create array for storing error values.\n",
    "Jgd = np.zeros(n_iterations+1)\n",
    "\n",
    "Jgd[0] = (1/M)*sum(np.power(y - X.dot(a), 2))\n",
    "\n",
    "# Batch gradient-descent loop.\n",
    "iteration = 0\n",
    "error = 1\n",
    "grad_hist = np.zeros((3, n_iterations), dtype=np.float64)\n",
    "#while iteration < n_iterations and error > 0.001:a\n",
    "while iteration < n_iterations:\n",
    "    gradients = -2/M * X.T.dot(y - X.dot(a))\n",
    "    grad_hist[0, iteration] = gradients[0]\n",
    "    grad_hist[1, iteration] = gradients[1]\n",
    "    grad_hist[2, iteration] = gradients[2]\n",
    "    a = a - alpha * gradients\n",
    "    a_hist[0, iteration+1] = a[0]\n",
    "    a_hist[1, iteration+1] = a[1]\n",
    "    a_hist[2, iteration+1] = a[2]\n",
    "    Jgd[iteration+1] = (1/M)*sum(np.power( (y - X.dot(a)) , 2))\n",
    "    error = np.abs(Jgd[iteration+1] - Jgd[iteration])\n",
    "    iteration = iteration + 1"
   ]
  },
  {
   "cell_type": "code",
   "execution_count": 8,
   "metadata": {},
   "outputs": [
    {
     "data": {
      "image/png": "[encoded data removed]",
      "text/plain": [
       "<Figure size 504x504 with 1 Axes>"
      ]
     },
     "metadata": {
      "needs_background": "light"
     },
     "output_type": "display_data"
    },
    {
     "data": {
      "text/plain": [
       "<Figure size 432x288 with 0 Axes>"
      ]
     },
     "metadata": {},
     "output_type": "display_data"
    }
   ],
   "source": [
    "fig = plt.figure(figsize=(7,7))\n",
    "plt.plot(np.arange(0, iteration), Jgd[0:iteration])\n",
    "plt.xlim((0, iteration))\n",
    "#plt.yscale('log')\n",
    "plt.xlabel('Iteration')\n",
    "plt.ylabel('$J_e$')\n",
    "plt.title('Error vs. Iteration number')\n",
    "plt.show()\n",
    "\n",
    "plt.savefig(\"Erro_versus_Interação.png\", dpi=600)"
   ]
  },
  {
   "cell_type": "code",
   "execution_count": 9,
   "metadata": {},
   "outputs": [
    {
     "name": "stdout",
     "output_type": "stream",
     "text": [
      "a1_opt: 2.9843548587001365\n",
      "a2_opt: 1.4884601264306463\n",
      "a2_opt: 2.3073110979259632\n",
      "a1_gd: 2.829885165950403\n",
      "a2_gd: 1.4889411082622674\n",
      "a2_gd: 2.317344697792187\n"
     ]
    }
   ],
   "source": [
    "# Print found values.\n",
    "print('a1_opt: ' + str(a_opt[0, 0]))\n",
    "print('a2_opt: ' + str(a_opt[1, 0]))\n",
    "print('a2_opt: ' + str(a_opt[2, 0]))\n",
    "print('a1_gd: ' + str(a[0, 0]))\n",
    "print('a2_gd: ' + str(a[1, 0]))\n",
    "print('a2_gd: ' + str(a[2, 0]))"
   ]
  },
  {
   "cell_type": "code",
   "execution_count": null,
   "metadata": {},
   "outputs": [],
   "source": []
  },
  {
   "cell_type": "code",
   "execution_count": null,
   "metadata": {},
   "outputs": [],
   "source": []
  },
  {
   "cell_type": "code",
   "execution_count": null,
   "metadata": {},
   "outputs": [],
   "source": []
  },
  {
   "cell_type": "code",
   "execution_count": null,
   "metadata": {},
   "outputs": [],
   "source": []
  },
  {
   "cell_type": "code",
   "execution_count": null,
   "metadata": {},
   "outputs": [],
   "source": []
  }
 ],
 "metadata": {
  "kernelspec": {
   "display_name": "Python 3",
   "language": "python",
   "name": "python3"
  },
  "language_info": {
   "codemirror_mode": {
    "name": "ipython",
    "version": 3
   },
   "file_extension": ".py",
   "mimetype": "text/x-python",
   "name": "python",
   "nbconvert_exporter": "python",
   "pygments_lexer": "ipython3",
   "version": "3.7.6"
  }
 },
 "nbformat": 4,
 "nbformat_minor": 2
}
