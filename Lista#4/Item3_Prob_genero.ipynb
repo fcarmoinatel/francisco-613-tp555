{
 "cells": [
  {
   "cell_type": "markdown",
   "metadata": {},
   "source": [
    "# Utilizando o teorema de Bayes para previsão de gênero\n",
    "# Probabilidades condicionais dos atributos seguem uma GD\n",
    "# Probabilidade do indivíduo = 0.5\n",
    "# Classificador naive Bayes em teoria com dicas assinaladas"
   ]
  },
  {
   "cell_type": "code",
   "execution_count": 8,
   "metadata": {},
   "outputs": [],
   "source": [
    "# Import all necessary libraries.\n",
    "import numpy as np\n",
    "from scipy.special import erfc\n",
    "from sklearn.naive_bayes import GaussianNB\n",
    "import matplotlib.pyplot as plt\n",
    "import cmath\n",
    "import scipy as sp\n"
   ]
  },
  {
   "cell_type": "code",
   "execution_count": 9,
   "metadata": {},
   "outputs": [
    {
     "data": {
      "text/plain": [
       "GaussianNB(priors=None, var_smoothing=1e-09)"
      ]
     },
     "execution_count": 9,
     "metadata": {},
     "output_type": "execute_result"
    }
   ],
   "source": [
    "# Creating Table of Parameters\n",
    "\n",
    "X = np.array([[1.84,81.65,30.48],[1.80,86.18,27.94],[1.71,77.11,30.48],[1.81,74.84,25.40],[1.53,45.36,15.24],[1.69,68.04,20.32],\n",
    "[1.66,58.97,17.78],[1.74,68.04,22.86]])\n",
    "\n",
    "y = np.array(['Male','Male','Male','Male','Female','Female','Female','Female'])\n",
    "\n",
    "gnb = GaussianNB()\n",
    "gnb.fit(X, y)"
   ]
  },
  {
   "cell_type": "code",
   "execution_count": 10,
   "metadata": {},
   "outputs": [
    {
     "name": "stdout",
     "output_type": "stream",
     "text": [
      "Female Gender\n"
     ]
    }
   ],
   "source": [
    "print('%s Gender' % gnb.predict([[1.83,58.97,20.32]])[0])"
   ]
  },
  {
   "cell_type": "code",
   "execution_count": 11,
   "metadata": {},
   "outputs": [
    {
     "name": "stdout",
     "output_type": "stream",
     "text": [
      "[[9.99999804e-01 1.96437534e-07]]\n"
     ]
    }
   ],
   "source": [
    "print(gnb.predict_proba([[1.83,58.97,20.32]]) )"
   ]
  },
  {
   "cell_type": "code",
   "execution_count": 14,
   "metadata": {},
   "outputs": [],
   "source": [
    "#probabilidades\n",
    "Prob_male = 0.5\n",
    "Prob_female = 0.5\n",
    "\n",
    "Height_male = (X[0:3+1,0].mean())\n",
    "Std_Height_male = (X[0:3+1,0].std())\n",
    "Prob_Height_male = sp.stats.norm.pdf(1.83, Height_male, Std_Height_male)\n",
    "Prob_Height_male_X_Prob_male = Prob_Height_male*Prob_male\n",
    "\n",
    "Weight_male = (X[0:3+1,1].mean())\n",
    "Std_Weight_male = (X[0:3+1,1].std())\n",
    "Prob_Weight_male = sp.stats.norm.pdf(58.97, Weight_male, Std_Weight_male)\n",
    "Prob_Weight_male_X_Prob_male = Prob_Weight_male*Prob_male\n",
    "\n",
    "Size_male = (X[0:3+1,2].mean())\n",
    "Std_Size_male = (X[0:3+1,2].std())\n",
    "Prob_Size_male = sp.stats.norm.pdf(20.32, Size_male, Std_Size_male)\n",
    "Prob_Size_male_X_Prob_male = Prob_Size_male*Prob_male\n",
    "\n",
    "Height_female = (X[4:4+3+1,0].mean())\n",
    "Std_Height_female = (X[4:4+3+1,0].std())\n",
    "Prob_Height_female = sp.stats.norm.pdf(1.83, Height_female, Std_Height_female)\n",
    "Prob_Height_female_X_Prob_female = Prob_Height_female*Prob_female\n",
    "\n",
    "Weight_female = (X[4:4+3+1,1].mean())\n",
    "Std_Weight_female = (X[4:4+3+1,1].std())\n",
    "Prob_Weight_female = sp.stats.norm.pdf(58.97, Weight_female, Std_Weight_female)\n",
    "Prob_Weight_female_X_Prob_female = Prob_Weight_female*Prob_female\n",
    "\n",
    "Size_female = (X[4:4+3+1,2].mean())\n",
    "Std_Size_female = (X[4:4+3+1,2].std())\n",
    "Prob_Size_female = sp.stats.norm.pdf(20.32, Size_female, Std_Size_female)\n",
    "Prob_Size_female_X_Prob_female = Prob_Size_female*Prob_female"
   ]
  },
  {
   "cell_type": "code",
   "execution_count": 15,
   "metadata": {},
   "outputs": [
    {
     "name": "stdout",
     "output_type": "stream",
     "text": [
      "Prob_Height: 312.98984108186494 %\n",
      "Prob_Weight: 2.1330870292872275 %\n",
      "Prob_Size: 6.360045742662244 %\n"
     ]
    }
   ],
   "source": [
    "Prob_Height = Prob_Height_male_X_Prob_male + Prob_Height_female_X_Prob_female\n",
    "Prob_Weight = Prob_Weight_male_X_Prob_male + Prob_Weight_female_X_Prob_female\n",
    "Prob_Size = Prob_Size_male_X_Prob_male + Prob_Size_female_X_Prob_female\n",
    "\n",
    "print('Prob_Height:',(Prob_Height)*100,'%')\n",
    "print('Prob_Weight:',(Prob_Weight)*100,'%')\n",
    "print('Prob_Size:',(Prob_Size)*100,'%')"
   ]
  },
  {
   "cell_type": "code",
   "execution_count": 16,
   "metadata": {},
   "outputs": [
    {
     "name": "stdout",
     "output_type": "stream",
     "text": [
      "Prob Male Gender: 5.077135243296973e-06 %\n"
     ]
    }
   ],
   "source": [
    "print('Prob Male Gender:',(Prob_Height_male*Prob_Weight_male*Prob_Size_male*Prob_male)/(Prob_Height*Prob_Weight*Prob_Size)*100,'%')"
   ]
  },
  {
   "cell_type": "code",
   "execution_count": 17,
   "metadata": {},
   "outputs": [
    {
     "name": "stdout",
     "output_type": "stream",
     "text": [
      "Prob Female Gender: 25.844471110828536 %\n"
     ]
    }
   ],
   "source": [
    "print('Prob Female Gender:',(Prob_Height_female*Prob_Weight_female*Prob_Size_female*Prob_female)/(Prob_Height*Prob_Weight*Prob_Size)*100,'%')"
   ]
  },
  {
   "cell_type": "code",
   "execution_count": null,
   "metadata": {},
   "outputs": [],
   "source": []
  }
 ],
 "metadata": {
  "kernelspec": {
   "display_name": "Python 3",
   "language": "python",
   "name": "python3"
  },
  "language_info": {
   "codemirror_mode": {
    "name": "ipython",
    "version": 3
   },
   "file_extension": ".py",
   "mimetype": "text/x-python",
   "name": "python",
   "nbconvert_exporter": "python",
   "pygments_lexer": "ipython3",
   "version": "3.7.6"
  }
 },
 "nbformat": 4,
 "nbformat_minor": 4
}
