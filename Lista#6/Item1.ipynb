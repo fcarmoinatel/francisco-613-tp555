{
 "cells": [
  {
   "cell_type": "markdown",
   "metadata": {},
   "source": [
    "# Calcular distâncias entre amostras\n",
    "\n",
    "# https://scikit-learn.org/stable/modules/generated/sklearn.neighbors.KNeighborsClassifier\n",
    ".html )\n",
    "\n",
    "# https://stackabuse.com/k-nearest-neighbors-algorithm-in-python-and-scikit-learn/"
   ]
  },
  {
   "cell_type": "code",
   "execution_count": 9,
   "metadata": {},
   "outputs": [
    {
     "name": "stdout",
     "output_type": "stream",
     "text": [
      "[[4, 7], [5, 6], [3, 4], [6, 9], [6, 4], [7, 6], [8, 0], [10, 10], [12, 3]]\n",
      "[0, 0, 0, 0, 1, 1, 1, 1, 1]\n"
     ]
    }
   ],
   "source": [
    "import numpy as np\n",
    "import matplotlib.pyplot as plt\n",
    "from matplotlib.colors import ListedColormap\n",
    "from sklearn.datasets import make_blobs\n",
    "import numpy as np\n",
    "import matplotlib.pyplot as plt\n",
    "from matplotlib.colors import ListedColormap\n",
    "from sklearn.neighbors import KNeighborsClassifier\n",
    "from sklearn.model_selection import train_test_split\n",
    "\n",
    "X = [[4, 7], [5, 6], [3, 4], [6, 9], [6, 4], [7, 6], [8, 0], [10, 10], [12, 3]] \n",
    "print(X)\n",
    "y = [0, 0, 0, 0, 1, 1 , 1, 1, 1]  \n",
    "print(y)\n",
    "#amostra de validação \n",
    "y_validacao = [[6, 5]]\n",
    "\n",
    "# Example of calculating Euclidean distance\n",
    "from math import sqrt\n",
    "import math\n",
    "def euclidean_distance(x1, x2):\n",
    "    return math.sqrt(math.pow(x1[0]-x2[0],2) + math.pow(x1[1]-x2[1],2))\n"
   ]
  },
  {
   "cell_type": "code",
   "execution_count": 10,
   "metadata": {},
   "outputs": [
    {
     "name": "stdout",
     "output_type": "stream",
     "text": [
      "[0. 3.]\n"
     ]
    }
   ],
   "source": [
    "num_classes = 2\n",
    "exemplo_treinamento= 9\n",
    "k = 3\n",
    "distances = [(0, 0)]*exemplo_treinamento\n",
    "#neighbors = list()\n",
    "for j in range(exemplo_treinamento):\n",
    "    dist = euclidean_distance(X[j], y_validacao[0])\n",
    "    distances[j] = (dist, j)\n",
    "\n",
    "distances.sort(key=lambda tup: tup[1])\n",
    "contador = np.zeros(num_classes)\n",
    "for i in range(k):\n",
    "    contador[y[distances[j][1]]] = contador[y[distances[j][1]]]+1\n",
    "\n",
    "print(contador)\n"
   ]
  },
  {
   "cell_type": "code",
   "execution_count": 11,
   "metadata": {},
   "outputs": [
    {
     "name": "stdout",
     "output_type": "stream",
     "text": [
      "[3. 2.]\n"
     ]
    }
   ],
   "source": [
    "num_classes = 2\n",
    "exemplo_treinamento= 9\n",
    "k = 5\n",
    "distances = [(0, 0)]*exemplo_treinamento\n",
    "#neighbors = list()\n",
    "for j in range(exemplo_treinamento):\n",
    "    dist = euclidean_distance(X[j], y_validacao[0])\n",
    "    distances[j] = (dist, j)\n",
    "\n",
    "distances.sort(key=lambda tup: tup[0])\n",
    "contador = np.zeros(num_classes)\n",
    "for j in range(k):\n",
    "    contador[y[distances[j][1]]] = contador[y[distances[j][1]]]+1\n",
    "\n",
    "print(contador)"
   ]
  },
  {
   "cell_type": "code",
   "execution_count": 12,
   "metadata": {},
   "outputs": [
    {
     "name": "stdout",
     "output_type": "stream",
     "text": [
      "Predictions form the classifier for K=3 e K=5:\n",
      "[0.]\n",
      "Target values:\n",
      "[[6, 5]]\n"
     ]
    }
   ],
   "source": [
    "x_answer = np.zeros((exemplo_treinamento, 2))\n",
    "y_answer = np.zeros((exemplo_treinamento, 1))\n",
    "for i in range(exemplo_treinamento):\n",
    "    x_answer[i] = X[i]\n",
    "    y_answer[i] = y[i]\n",
    "    y_answer = y_answer.ravel()\n",
    "\n",
    "for k in [3, 5]:\n",
    "    # metodo para predição e neighbor usando Kneighbors classifier\n",
    "    knn = KNeighborsClassifier(k, n_jobs=1, weights='uniform', p=2,\n",
    "                               metric='minkowski', metric_params=None, algorithm='auto')\n",
    "    \n",
    "knn.fit(x_answer, y_answer)\n",
    "print(\"Predictions form the classifier for K=3 e K=5:\")\n",
    "print(knn.predict(y_validacao))\n",
    "print(\"Target values:\")\n",
    "print(y_validacao)\n",
    "    "
   ]
  },
  {
   "cell_type": "code",
   "execution_count": null,
   "metadata": {},
   "outputs": [],
   "source": []
  }
 ],
 "metadata": {
  "kernelspec": {
   "display_name": "Python 3",
   "language": "python",
   "name": "python3"
  },
  "language_info": {
   "codemirror_mode": {
    "name": "ipython",
    "version": 3
   },
   "file_extension": ".py",
   "mimetype": "text/x-python",
   "name": "python",
   "nbconvert_exporter": "python",
   "pygments_lexer": "ipython3",
   "version": "3.7.6"
  }
 },
 "nbformat": 4,
 "nbformat_minor": 4
}
