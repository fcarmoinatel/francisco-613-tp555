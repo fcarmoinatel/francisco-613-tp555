{
 "cells": [
  {
   "cell_type": "markdown",
   "metadata": {},
   "source": [
    "# Com base nas dicas\n",
    "\n",
    "# http://www.dsplog.com/2007/11/06/symbol-error-rate-for-4-qam/"
   ]
  },
  {
   "cell_type": "code",
   "execution_count": 1,
   "metadata": {},
   "outputs": [],
   "source": [
    "# Import all necessary libraries.\n",
    "import numpy as np\n",
    "from scipy.special import erfc\n",
    "from sklearn.naive_bayes import GaussianNB\n",
    "import matplotlib.pyplot as plt\n",
    "from sklearn.model_selection import train_test_split\n",
    "from sklearn.cluster import KMeans"
   ]
  },
  {
   "cell_type": "code",
   "execution_count": 2,
   "metadata": {},
   "outputs": [],
   "source": [
    "# Number of QPSK symbols to be transmitted.\n",
    "N = 1000000"
   ]
  },
  {
   "cell_type": "code",
   "execution_count": 3,
   "metadata": {},
   "outputs": [],
   "source": [
    "def mod(V):\n",
    "\n",
    "    ip = np.zeros((len(V),1),dtype=complex)\n",
    "    inc = 0\n",
    "    for v in V:\n",
    "        if(v==0):\n",
    "            ip[inc] = -1.0 - 1j*1.0\n",
    "        elif(v==1):\n",
    "            ip[inc] = -1.0 + 1j*1.0\n",
    "        elif(v==2):\n",
    "            ip[inc] = 1.0 - 1j*1.0\n",
    "        else:\n",
    "            ip[inc] = 1.0 + 1j*1.0\n",
    "        inc += 1\n",
    "    # Normalization of energy to 1.\n",
    "    s = (1/np.sqrt(2))*ip;\n",
    "    return s\n",
    "\n",
    "\n",
    "def demod(c):\n",
    "    c_seq = mod(np.array([0,1,2,3]))\n",
    "    c_seq = c_seq[:,0]\n",
    "    e = []\n",
    "    for i in range(0,len(c_seq)):\n",
    "        e.append(np.abs(c_seq[i] - c)**2)\n",
    "    return e.index(np.min(e))\n"
   ]
  },
  {
   "cell_type": "code",
   "execution_count": null,
   "metadata": {},
   "outputs": [
    {
     "name": "stdout",
     "output_type": "stream",
     "text": [
      "Es/N0 dB: -2\n",
      "Es/N0 dB: 0\n",
      "Es/N0 dB: 2\n",
      "Es/N0 dB: 4\n"
     ]
    }
   ],
   "source": [
    "# Create Es/N0 vector.\n",
    "EsN0dB = np.arange(-2,22,2)\n",
    "\n",
    "SER_simu = np.zeros(len(EsN0dB))\n",
    "SER_theo = np.zeros(len(EsN0dB))\n",
    "for idx in range(0,len(EsN0dB)):\n",
    "   \n",
    "    print('Es/N0 dB:', EsN0dB[idx])\n",
    "   \n",
    "    EsN0Lin = 10.0**(-(EsN0dB[idx]/10.0))\n",
    "   \n",
    "    # Generate N binary symbols.\n",
    "    V = np.random.randint(0,4,(N,1))\n",
    "   \n",
    "    # Modulate binary stream into QPSK symbols.\n",
    "    s = mod(V)\n",
    "   \n",
    "    # Generate noise vector with unitary variance.\n",
    "    noise = np.sqrt(1.0/2.0)*(np.random.randn(N, 1) + 1j*np.random.randn(N, 1))\n",
    "   \n",
    "    # Pass symbols through AWGN channel.\n",
    "    y = s + np.sqrt(EsN0Lin)*noise\n",
    "   \n",
    "    # Split array into random train and test subsets.\n",
    "    s_test, s_train, y_test, y_train, v_test, v_train = train_test_split(s, y, V, random_state=42)\n",
    "   \n",
    "    Y = np.c_[y_train.real,y_train.imag]\n",
    "       \n",
    "    # Fit models for real and imaginary parts.\n",
    "    km = KMeans(n_clusters=4, random_state=42)\n",
    "    km.fit(Y)\n",
    "   \n",
    "    # Prediction.\n",
    "    detected = km.predict(np.c_[y_test.real,y_test.imag])  \n",
    "       \n",
    "    # Simulated QPSK BER.\n",
    "    error = 0\n",
    "    for i in range(0, len(v_test)):\n",
    "        pred = km.cluster_centers_[detected[i],0] + 1j*km.cluster_centers_[detected[i],1]\n",
    "        d = demod(pred)\n",
    "        if((v_test[i,0] != d)==True):\n",
    "            error = error + 1\n",
    "   \n",
    "    SER_simu[idx] = 1.0 * error / len(v_test)\n",
    "    \n",
    "    # Theoretical QPSK BER.    \n",
    "    SER_theo[idx] = erfc(np.sqrt(0.5*(10.0**(EsN0dB[idx]/10.0)))) - (1/4)*(erfc(np.sqrt(0.5*(10.0**(EsN0dB[idx]/10.0)))))**2.0"
   ]
  },
  {
   "cell_type": "code",
   "execution_count": null,
   "metadata": {},
   "outputs": [],
   "source": [
    "# Print values of Es/N0 vs. SER.\n",
    "for i in range(0,len(SER_simu)): print('Es/N0:%d \\t- SER: %e' % (EsN0dB[i], SER_simu[i]))"
   ]
  },
  {
   "cell_type": "code",
   "execution_count": null,
   "metadata": {},
   "outputs": [],
   "source": [
    "# Plot Es/N0 versus SER values.\n",
    "fig = plt.figure(figsize=(12,8))\n",
    "plt.plot(EsN0dB, SER_theo, 'g', label='theoretical')\n",
    "plt.plot(EsN0dB, SER_simu, 'bo', label='simulated')\n",
    "plt.xscale('linear')\n",
    "plt.yscale('log')\n",
    "plt.xlabel('Es/N0 [dB]')\n",
    "plt.ylabel('SER')\n",
    "plt.grid(True)\n",
    "plt.title('QPSK detection with KMeans')\n",
    "plt.legend()\n",
    "plt.xlim([-2, 14])\n",
    "plt.ylim([1e-5, 1])\n",
    "plt.show()"
   ]
  }
 ],
 "metadata": {
  "kernelspec": {
   "display_name": "Python 3",
   "language": "python",
   "name": "python3"
  },
  "language_info": {
   "codemirror_mode": {
    "name": "ipython",
    "version": 3
   },
   "file_extension": ".py",
   "mimetype": "text/x-python",
   "name": "python",
   "nbconvert_exporter": "python",
   "pygments_lexer": "ipython3",
   "version": "3.7.6"
  }
 },
 "nbformat": 4,
 "nbformat_minor": 2
}
